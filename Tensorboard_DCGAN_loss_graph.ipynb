{
  "nbformat": 4,
  "nbformat_minor": 0,
  "metadata": {
    "colab": {
      "name": "Tensorboard_DCGAN_loss_graph",
      "provenance": [],
      "collapsed_sections": [],
      "authorship_tag": "ABX9TyMDYcs8xJWllJ6p/QQF3NEO"
    },
    "kernelspec": {
      "name": "python3",
      "display_name": "Python 3"
    },
    "language_info": {
      "name": "python"
    },
    "accelerator": "GPU"
  },
  "cells": [
    {
      "cell_type": "markdown",
      "metadata": {
        "id": "OD8dxn7WQJXY"
      },
      "source": [
        "# DCGAN loss function graph\n",
        "\n",
        "using tensorboard"
      ]
    },
    {
      "cell_type": "markdown",
      "metadata": {
        "id": "KeDWLwjyn6tU"
      },
      "source": [
        "Ref1 : https://www.tensorflow.org/tutorials/generative/dcgan?hl=ko\n",
        "\n",
        "Ref2: https://arxiv.org/pdf/1511.06434.pdf\n",
        "\n",
        "Graph_Ref3: https://www.tensorflow.org/tensorboard/get_started?hl=ko"
      ]
    },
    {
      "cell_type": "code",
      "metadata": {
        "id": "BF9m99mBL_sm"
      },
      "source": [
        "# Load the TensorBoard notebook extension\n",
        "%load_ext tensorboard"
      ],
      "execution_count": null,
      "outputs": []
    },
    {
      "cell_type": "markdown",
      "metadata": {
        "id": "dy0z0Tj-kymI"
      },
      "source": [
        "**import library**"
      ]
    },
    {
      "cell_type": "code",
      "metadata": {
        "id": "Cl_Wo1NjgBK-"
      },
      "source": [
        "from datetime import datetime\n",
        "from packaging import version"
      ],
      "execution_count": null,
      "outputs": []
    },
    {
      "cell_type": "code",
      "metadata": {
        "id": "zbDXjHqjS8_r"
      },
      "source": [
        "import tensorflow as tf\n",
        "import glob\n",
        "import imageio  #gif 위해\n",
        "import matplotlib.pyplot as plt\n",
        "import numpy as np\n",
        "import os\n",
        "import PIL\n",
        "from tensorflow.keras import layers\n",
        "import time\n",
        "import datetime\n",
        "\n",
        "from IPython import display"
      ],
      "execution_count": null,
      "outputs": []
    },
    {
      "cell_type": "code",
      "metadata": {
        "colab": {
          "base_uri": "https://localhost:8080/",
          "height": 35
        },
        "id": "9HgyAfAZgIJB",
        "outputId": "5362339e-dee9-42d7-85bc-c6ba7ddcf3d6"
      },
      "source": [
        "import tensorboard\n",
        "tensorboard.__version__"
      ],
      "execution_count": null,
      "outputs": [
        {
          "output_type": "execute_result",
          "data": {
            "application/vnd.google.colaboratory.intrinsic+json": {
              "type": "string"
            },
            "text/plain": [
              "'2.4.1'"
            ]
          },
          "metadata": {
            "tags": []
          },
          "execution_count": 4
        }
      ]
    },
    {
      "cell_type": "markdown",
      "metadata": {
        "id": "RffAJNhtlIjH"
      },
      "source": [
        "**데이터셋 로딩**\n",
        "\n",
        "MNIST 데이터셋 사용"
      ]
    },
    {
      "cell_type": "code",
      "metadata": {
        "id": "9lrtPd2UQHE3",
        "colab": {
          "base_uri": "https://localhost:8080/"
        },
        "outputId": "8fd36e20-7b57-4bcc-f1b3-ee9112fc02c9"
      },
      "source": [
        "# This method returns a helper function to compute cross entropy loss\n",
        "cross_entropy = tf.keras.losses.BinaryCrossentropy(from_logits=True)\n",
        "\n",
        "(train_images, train_labels), (_, _) = tf.keras.datasets.mnist.load_data()\n",
        "\n",
        "train_images = train_images.reshape(train_images.shape[0], 28, 28, 1).astype('float32')\n",
        "train_images = (train_images - 127.5) / 127.5   # 이미지 [-1, 1]로 정규화\n",
        "\n",
        "BUFFER_SIZE = 60000\n",
        "BATCH_SIZE = 256\n",
        "\n",
        "# Batch and shuffle the data\n",
        "train_dataset = tf.data.Dataset.from_tensor_slices(train_images).shuffle(BUFFER_SIZE).batch(BATCH_SIZE)"
      ],
      "execution_count": null,
      "outputs": [
        {
          "output_type": "stream",
          "text": [
            "Downloading data from https://storage.googleapis.com/tensorflow/tf-keras-datasets/mnist.npz\n",
            "11493376/11490434 [==============================] - 0s 0us/step\n"
          ],
          "name": "stdout"
        }
      ]
    },
    {
      "cell_type": "markdown",
      "metadata": {
        "id": "zvSFxW9olcHr"
      },
      "source": [
        "**generator와 discriminator 모델 만들기**"
      ]
    },
    {
      "cell_type": "code",
      "metadata": {
        "id": "ULPA7IOmQv6K"
      },
      "source": [
        "###generator\n",
        "def make_generator_model():\n",
        "    model = tf.keras.Sequential()\n",
        "    model.add(layers.Dense(7*7*256, use_bias=False, input_shape=(100,)))\n",
        "    model.add(layers.BatchNormalization())\n",
        "    model.add(layers.LeakyReLU())\n",
        "\n",
        "    model.add(layers.Reshape((7, 7, 256)))\n",
        "    assert model.output_shape == (None, 7, 7, 256)  # None is the batch size\n",
        "\n",
        "    model.add(layers.Conv2DTranspose(128, (5, 5), strides=(1, 1), padding='same', use_bias=False))\n",
        "    assert model.output_shape == (None, 7, 7, 128)\n",
        "    model.add(layers.BatchNormalization())\n",
        "    model.add(layers.LeakyReLU())\n",
        "\n",
        "    model.add(layers.Conv2DTranspose(64, (5, 5), strides=(2, 2), padding='same', use_bias=False))\n",
        "    assert model.output_shape == (None, 14, 14, 64)\n",
        "    model.add(layers.BatchNormalization())\n",
        "    model.add(layers.LeakyReLU())\n",
        "\n",
        "    model.add(layers.Conv2DTranspose(1, (5, 5), strides=(2, 2), padding='same', use_bias=False, activation='tanh'))\n",
        "    assert model.output_shape == (None, 28, 28, 1)\n",
        "\n",
        "    return model"
      ],
      "execution_count": null,
      "outputs": []
    },
    {
      "cell_type": "code",
      "metadata": {
        "id": "WDFzmUvTmWFU"
      },
      "source": [
        "###discriminator\n",
        "#CNN 기반의 이미지 분류기\n",
        "def make_discriminator_model():\n",
        "    model = tf.keras.Sequential()\n",
        "    model.add(layers.Conv2D(64, (5, 5), strides=(2, 2), padding='same',\n",
        "                                     input_shape=[28, 28, 1]))\n",
        "    model.add(layers.LeakyReLU())\n",
        "    model.add(layers.Dropout(0.3))\n",
        "\n",
        "    model.add(layers.Conv2D(128, (5, 5), strides=(2, 2), padding='same'))\n",
        "    model.add(layers.LeakyReLU())\n",
        "    model.add(layers.Dropout(0.3))\n",
        "\n",
        "    model.add(layers.Flatten())\n",
        "    model.add(layers.Dense(1))\n",
        "\n",
        "    return model"
      ],
      "execution_count": null,
      "outputs": []
    },
    {
      "cell_type": "markdown",
      "metadata": {
        "id": "KSwPbRKamn8p"
      },
      "source": [
        "**손실 함수 정의(첫번째 셀의 cross_entropy 사용)**"
      ]
    },
    {
      "cell_type": "code",
      "metadata": {
        "id": "JAotvxywQ16U"
      },
      "source": [
        "#discriminator 손실 함수\n",
        "def discriminator_loss(real_output, fake_output):\n",
        "    real_loss = cross_entropy(tf.ones_like(real_output), real_output)\n",
        "    fake_loss = cross_entropy(tf.zeros_like(fake_output), fake_output)\n",
        "    total_loss = real_loss + fake_loss\n",
        "    return total_loss\n",
        "\n",
        "#generator 손실 함수\n",
        "def generator_loss(fake_output):\n",
        "    return cross_entropy(tf.ones_like(fake_output), fake_output)"
      ],
      "execution_count": null,
      "outputs": []
    },
    {
      "cell_type": "markdown",
      "metadata": {
        "id": "d2zfZ86qLj8t"
      },
      "source": [
        "**상태 저장 메트릭**\n",
        "\n",
        "훈련 중에 값을 축적하는데 사용할 수 있고 언제든지 기록할 수 있다"
      ]
    },
    {
      "cell_type": "code",
      "metadata": {
        "id": "FM6cjkSTy0T2"
      },
      "source": [
        "# Define our metrics\n",
        "d_loss = tf.keras.metrics.Mean('d_loss', dtype=tf.float32)\n",
        "g_loss = tf.keras.metrics.Mean('g_loss', dtype=tf.float32)\n",
        "#d_accuracy = tf.keras.metrics.SparseCategoricalAccuracy('discriminator_accuracy')\n",
        "#g_accuracy = tf.keras.metrics.SparseCategoricalAccuracy('generator_accuracy')"
      ],
      "execution_count": null,
      "outputs": []
    },
    {
      "cell_type": "markdown",
      "metadata": {
        "id": "cGC6MY3JnZYd"
      },
      "source": [
        "**훈련 루프 정의하기**"
      ]
    },
    {
      "cell_type": "code",
      "metadata": {
        "id": "25NTcLsKrrs5"
      },
      "source": [
        "@tf.function\n",
        "def train_step(images):\n",
        "    noise = tf.random.normal([BATCH_SIZE, noise_dim])\n",
        "    \n",
        "    with tf.GradientTape() as gen_tape, tf.GradientTape() as disc_tape:\n",
        "      generated_images = generator(noise, training=True)\n",
        "\n",
        "      real_output = discriminator(images, training=True)\n",
        "      fake_output = discriminator(generated_images, training=True)\n",
        "\n",
        "      gen_loss = generator_loss(fake_output)\n",
        "      disc_loss = discriminator_loss(real_output, fake_output)\n",
        "\n",
        "    gradients_of_generator = gen_tape.gradient(gen_loss, generator.trainable_variables)\n",
        "    gradients_of_discriminator = disc_tape.gradient(disc_loss, discriminator.trainable_variables)\n",
        "\n",
        "    generator_optimizer.apply_gradients(zip(gradients_of_generator, generator.trainable_variables))\n",
        "    discriminator_optimizer.apply_gradients(zip(gradients_of_discriminator, discriminator.trainable_variables))\n",
        "\n",
        "    g_loss(gen_loss)\n",
        "    d_loss(disc_loss)"
      ],
      "execution_count": null,
      "outputs": []
    },
    {
      "cell_type": "markdown",
      "metadata": {
        "id": "NuRVW1RoNayh"
      },
      "source": [
        "**요약 작성기**\n",
        "\n",
        "다른 로그 디렉토리의 디스크에 요약 작성"
      ]
    },
    {
      "cell_type": "code",
      "metadata": {
        "id": "Ryb6QWsDzeYG"
      },
      "source": [
        "#요약작성기\n",
        "current_time = datetime.datetime.now().strftime(\"%Y%m%d-%H%M%S\")\n",
        "discriminator_log_dir = 'logs/gradient_tape/' + current_time + '/discriminator'\n",
        "generator_log_dir = 'logs/gradient_tape/' + current_time + '/generator'\n",
        "discriminator_summary_writer = tf.summary.create_file_writer(discriminator_log_dir)\n",
        "generator_summary_writer = tf.summary.create_file_writer(generator_log_dir)"
      ],
      "execution_count": null,
      "outputs": []
    },
    {
      "cell_type": "code",
      "metadata": {
        "id": "iwrMa_2VRUBc"
      },
      "source": [
        "def train(dataset, epochs):\n",
        "    for epoch in range(epochs):\n",
        "        start = time.time()\n",
        "        \n",
        "        for image_batch in dataset:\n",
        "            train_step(image_batch)\n",
        "            with discriminator_summary_writer.as_default():\n",
        "                tf.summary.scalar('loss', d_loss.result(), step=epoch)\n",
        "            with generator_summary_writer.as_default():\n",
        "                tf.summary.scalar('loss', g_loss.result(), step=epoch)\n",
        "        \n",
        "        # Produce images for the GIF as we go\n",
        "        display.clear_output(wait=True)\n",
        "        generate_and_save_images(generator, epoch + 1, seed)\n",
        "                \n",
        "        template = 'Epoch {}, Discriminator Loss: {}, Generator Loss: {}'\n",
        "        print (template.format(epoch+1,\n",
        "                         d_loss.result(), \n",
        "                         g_loss.result()))\n",
        "\n",
        "        # Save the model every 15 epochs\n",
        "        if (epoch + 1) % 15 == 0:\n",
        "            checkpoint.save(file_prefix = checkpoint_prefix)\n",
        "\n",
        "        print ('Time for epoch {} is {} sec'.format(epoch + 1, time.time()-start))\n",
        "\n",
        "        # Reset metrics every epoch\n",
        "        d_loss.reset_states()\n",
        "        g_loss.reset_states()\n",
        "\n",
        "    # Generate after the final epoch\n",
        "    #display.clear_output(wait=True)\n",
        "    generate_and_save_images(generator, epochs, seed)\n",
        "\n",
        "#이미지 생성 및 저장\n",
        "def generate_and_save_images(model, epoch, test_input):\n",
        "    # `training`이 False로 맞춰진 것을 주목하세요.\n",
        "    # 이렇게 하면 (배치정규화를 포함하여) 모든 층들이 추론 모드로 실행됩니다.\n",
        "    predictions = model(test_input, training=False)\n",
        "\n",
        "    fig = plt.figure(figsize=(4,4))\n",
        "\n",
        "    for i in range(predictions.shape[0]):\n",
        "        plt.subplot(4, 4, i+1)\n",
        "        plt.imshow(predictions[i, :, :, 0] * 127.5 + 127.5, cmap='gray')\n",
        "        plt.axis('off')\n",
        "\n",
        "    plt.savefig('image_at_epoch_{:04d}.png'.format(epoch))\n",
        "    plt.show()"
      ],
      "execution_count": null,
      "outputs": []
    },
    {
      "cell_type": "code",
      "metadata": {
        "colab": {
          "base_uri": "https://localhost:8080/",
          "height": 283
        },
        "id": "LXQCuGG3RFq2",
        "outputId": "fb6c9df7-c574-468d-deea-8a77d7dfcc54"
      },
      "source": [
        "###optimizer\n",
        "#generator와 discriminator는 따로 훈련→서로 optimizer 다름\n",
        "generator_optimizer = tf.keras.optimizers.Adam(1e-4)\n",
        "discriminator_optimizer = tf.keras.optimizers.Adam(1e-4)\n",
        "\n",
        "generator = make_generator_model()\n",
        "\n",
        "noise = tf.random.normal([1, 100])\n",
        "generated_image = generator(noise, training=False)\n",
        "\n",
        "discriminator = make_discriminator_model()\n",
        "decision = discriminator(generated_image)\n",
        "print (decision)\n",
        "\n",
        "discriminator.compile(loss='binary_crossentropy', optimizer=discriminator_optimizer)\n",
        "\n",
        "#checkpoint save\n",
        "#오랫동안 진행되는 훈련이 방해되는 경우에 유용하게 사용가능\n",
        "checkpoint_dir = './training_checkpoints'\n",
        "checkpoint_prefix = os.path.join(checkpoint_dir, \"ckpt\")\n",
        "checkpoint = tf.train.Checkpoint(generator_optimizer=generator_optimizer,\n",
        "                                 discriminator_optimizer=discriminator_optimizer,\n",
        "                                 generator=generator,\n",
        "                                 discriminator=discriminator)\n",
        "\n",
        "\n",
        "EPOCHS = 1000\n",
        "noise_dim = 100\n",
        "num_examples_to_generate = 16\n",
        "\n",
        "# We will reuse this seed overtime (so it's easier)\n",
        "# to visualize progress in the animated GIF)\n",
        "seed = tf.random.normal([num_examples_to_generate, noise_dim])\n",
        "\n",
        "#모델 훈련\n",
        "train(train_dataset, EPOCHS)\n",
        "\n",
        "checkpoint.restore(tf.train.latest_checkpoint(checkpoint_dir))"
      ],
      "execution_count": null,
      "outputs": [
        {
          "output_type": "display_data",
          "data": {
            "image/png": "[encoded data removed]",
            "text/plain": [
              "<Figure size 288x288 with 16 Axes>"
            ]
          },
          "metadata": {
            "tags": [],
            "needs_background": "light"
          }
        },
        {
          "output_type": "stream",
          "text": [
            "Epoch 975, Discriminator Loss: 1.2836999893188477, Generator Loss: 0.8900977373123169\n",
            "Time for epoch 975 is 14.974249601364136 sec\n"
          ],
          "name": "stdout"
        }
      ]
    },
    {
      "cell_type": "code",
      "metadata": {
        "id": "AFi-GErZ03ep",
        "colab": {
          "base_uri": "https://localhost:8080/"
        },
        "outputId": "17e2123f-8c9c-4118-ab80-6077e816db9f"
      },
      "source": [
        "%tensorboard --logdir logs/gradient_tape"
      ],
      "execution_count": null,
      "outputs": [
        {
          "output_type": "stream",
          "text": [
            "UsageError: Line magic function `%tensorboard` not found.\n"
          ],
          "name": "stderr"
        }
      ]
    }
  ]
}